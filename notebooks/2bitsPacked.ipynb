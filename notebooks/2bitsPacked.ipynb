{
 "cells": [
  {
   "cell_type": "code",
   "execution_count": 2,
   "id": "3a868d75-6339-4db0-b808-967a27f69a79",
   "metadata": {},
   "outputs": [],
   "source": [
    "import pandas as pd\n",
    "import matplotlib.pyplot as plt\n",
    "import sys\n",
    "#!{sys.executable} -m pip install seaborn\n",
    "import seaborn as sns\n",
    "import numpy as np"
   ]
  },
  {
   "cell_type": "markdown",
   "id": "d7ef1771-fb20-418c-b00c-71afd427b0cc",
   "metadata": {},
   "source": [
    "## BLIS"
   ]
  },
  {
   "cell_type": "code",
   "execution_count": 3,
   "id": "fd8a5fdc-635f-4c75-a9e7-ef4f52a746b8",
   "metadata": {},
   "outputs": [
    {
     "ename": "FileNotFoundError",
     "evalue": "[Errno 2] No such file or directory: '/home/crulli/crulli/OldBenchmark/two_bits_vs_packed_vs_blis_vs2_2.csv'",
     "output_type": "error",
     "traceback": [
      "\u001b[0;31m---------------------------------------------------------------------------\u001b[0m",
      "\u001b[0;31mFileNotFoundError\u001b[0m                         Traceback (most recent call last)",
      "Cell \u001b[0;32mIn[3], line 1\u001b[0m\n\u001b[0;32m----> 1\u001b[0m data_blis \u001b[38;5;241m=\u001b[39m \u001b[43mpd\u001b[49m\u001b[38;5;241;43m.\u001b[39;49m\u001b[43mread_csv\u001b[49m\u001b[43m(\u001b[49m\u001b[38;5;124;43m\"\u001b[39;49m\u001b[38;5;124;43m/home/crulli/crulli/OldBenchmark/two_bits_vs_packed_vs_blis_vs2_2.csv\u001b[39;49m\u001b[38;5;124;43m\"\u001b[39;49m\u001b[43m,\u001b[49m\u001b[43m \u001b[49m\u001b[43msep\u001b[49m\u001b[38;5;241;43m=\u001b[39;49m\u001b[38;5;124;43m\"\u001b[39;49m\u001b[38;5;130;43;01m\\t\u001b[39;49;00m\u001b[38;5;124;43m\"\u001b[39;49m\u001b[43m,\u001b[49m\u001b[43m \u001b[49m\u001b[43mindex_col\u001b[49m\u001b[38;5;241;43m=\u001b[39;49m\u001b[38;5;28;43;01mFalse\u001b[39;49;00m\u001b[43m)\u001b[49m\n\u001b[1;32m      2\u001b[0m data_fbgemm \u001b[38;5;241m=\u001b[39m pd\u001b[38;5;241m.\u001b[39mread_csv(\u001b[38;5;124m\"\u001b[39m\u001b[38;5;124m../../BenchmarkCosimo/logs/fbgemm_resnet18.csv\u001b[39m\u001b[38;5;124m\"\u001b[39m, sep\u001b[38;5;241m=\u001b[39m\u001b[38;5;124m\"\u001b[39m\u001b[38;5;130;01m\\t\u001b[39;00m\u001b[38;5;124m\"\u001b[39m, index_col\u001b[38;5;241m=\u001b[39m\u001b[38;5;28;01mFalse\u001b[39;00m)\n\u001b[1;32m      3\u001b[0m data_blis \u001b[38;5;241m=\u001b[39m pd\u001b[38;5;241m.\u001b[39mconcat([data_blis, data_fbgemm])\n",
      "File \u001b[0;32m~/.local/lib/python3.10/site-packages/pandas/io/parsers/readers.py:1026\u001b[0m, in \u001b[0;36mread_csv\u001b[0;34m(filepath_or_buffer, sep, delimiter, header, names, index_col, usecols, dtype, engine, converters, true_values, false_values, skipinitialspace, skiprows, skipfooter, nrows, na_values, keep_default_na, na_filter, verbose, skip_blank_lines, parse_dates, infer_datetime_format, keep_date_col, date_parser, date_format, dayfirst, cache_dates, iterator, chunksize, compression, thousands, decimal, lineterminator, quotechar, quoting, doublequote, escapechar, comment, encoding, encoding_errors, dialect, on_bad_lines, delim_whitespace, low_memory, memory_map, float_precision, storage_options, dtype_backend)\u001b[0m\n\u001b[1;32m   1013\u001b[0m kwds_defaults \u001b[38;5;241m=\u001b[39m _refine_defaults_read(\n\u001b[1;32m   1014\u001b[0m     dialect,\n\u001b[1;32m   1015\u001b[0m     delimiter,\n\u001b[0;32m   (...)\u001b[0m\n\u001b[1;32m   1022\u001b[0m     dtype_backend\u001b[38;5;241m=\u001b[39mdtype_backend,\n\u001b[1;32m   1023\u001b[0m )\n\u001b[1;32m   1024\u001b[0m kwds\u001b[38;5;241m.\u001b[39mupdate(kwds_defaults)\n\u001b[0;32m-> 1026\u001b[0m \u001b[38;5;28;01mreturn\u001b[39;00m \u001b[43m_read\u001b[49m\u001b[43m(\u001b[49m\u001b[43mfilepath_or_buffer\u001b[49m\u001b[43m,\u001b[49m\u001b[43m \u001b[49m\u001b[43mkwds\u001b[49m\u001b[43m)\u001b[49m\n",
      "File \u001b[0;32m~/.local/lib/python3.10/site-packages/pandas/io/parsers/readers.py:620\u001b[0m, in \u001b[0;36m_read\u001b[0;34m(filepath_or_buffer, kwds)\u001b[0m\n\u001b[1;32m    617\u001b[0m _validate_names(kwds\u001b[38;5;241m.\u001b[39mget(\u001b[38;5;124m\"\u001b[39m\u001b[38;5;124mnames\u001b[39m\u001b[38;5;124m\"\u001b[39m, \u001b[38;5;28;01mNone\u001b[39;00m))\n\u001b[1;32m    619\u001b[0m \u001b[38;5;66;03m# Create the parser.\u001b[39;00m\n\u001b[0;32m--> 620\u001b[0m parser \u001b[38;5;241m=\u001b[39m \u001b[43mTextFileReader\u001b[49m\u001b[43m(\u001b[49m\u001b[43mfilepath_or_buffer\u001b[49m\u001b[43m,\u001b[49m\u001b[43m \u001b[49m\u001b[38;5;241;43m*\u001b[39;49m\u001b[38;5;241;43m*\u001b[39;49m\u001b[43mkwds\u001b[49m\u001b[43m)\u001b[49m\n\u001b[1;32m    622\u001b[0m \u001b[38;5;28;01mif\u001b[39;00m chunksize \u001b[38;5;129;01mor\u001b[39;00m iterator:\n\u001b[1;32m    623\u001b[0m     \u001b[38;5;28;01mreturn\u001b[39;00m parser\n",
      "File \u001b[0;32m~/.local/lib/python3.10/site-packages/pandas/io/parsers/readers.py:1620\u001b[0m, in \u001b[0;36mTextFileReader.__init__\u001b[0;34m(self, f, engine, **kwds)\u001b[0m\n\u001b[1;32m   1617\u001b[0m     \u001b[38;5;28mself\u001b[39m\u001b[38;5;241m.\u001b[39moptions[\u001b[38;5;124m\"\u001b[39m\u001b[38;5;124mhas_index_names\u001b[39m\u001b[38;5;124m\"\u001b[39m] \u001b[38;5;241m=\u001b[39m kwds[\u001b[38;5;124m\"\u001b[39m\u001b[38;5;124mhas_index_names\u001b[39m\u001b[38;5;124m\"\u001b[39m]\n\u001b[1;32m   1619\u001b[0m \u001b[38;5;28mself\u001b[39m\u001b[38;5;241m.\u001b[39mhandles: IOHandles \u001b[38;5;241m|\u001b[39m \u001b[38;5;28;01mNone\u001b[39;00m \u001b[38;5;241m=\u001b[39m \u001b[38;5;28;01mNone\u001b[39;00m\n\u001b[0;32m-> 1620\u001b[0m \u001b[38;5;28mself\u001b[39m\u001b[38;5;241m.\u001b[39m_engine \u001b[38;5;241m=\u001b[39m \u001b[38;5;28;43mself\u001b[39;49m\u001b[38;5;241;43m.\u001b[39;49m\u001b[43m_make_engine\u001b[49m\u001b[43m(\u001b[49m\u001b[43mf\u001b[49m\u001b[43m,\u001b[49m\u001b[43m \u001b[49m\u001b[38;5;28;43mself\u001b[39;49m\u001b[38;5;241;43m.\u001b[39;49m\u001b[43mengine\u001b[49m\u001b[43m)\u001b[49m\n",
      "File \u001b[0;32m~/.local/lib/python3.10/site-packages/pandas/io/parsers/readers.py:1880\u001b[0m, in \u001b[0;36mTextFileReader._make_engine\u001b[0;34m(self, f, engine)\u001b[0m\n\u001b[1;32m   1878\u001b[0m     \u001b[38;5;28;01mif\u001b[39;00m \u001b[38;5;124m\"\u001b[39m\u001b[38;5;124mb\u001b[39m\u001b[38;5;124m\"\u001b[39m \u001b[38;5;129;01mnot\u001b[39;00m \u001b[38;5;129;01min\u001b[39;00m mode:\n\u001b[1;32m   1879\u001b[0m         mode \u001b[38;5;241m+\u001b[39m\u001b[38;5;241m=\u001b[39m \u001b[38;5;124m\"\u001b[39m\u001b[38;5;124mb\u001b[39m\u001b[38;5;124m\"\u001b[39m\n\u001b[0;32m-> 1880\u001b[0m \u001b[38;5;28mself\u001b[39m\u001b[38;5;241m.\u001b[39mhandles \u001b[38;5;241m=\u001b[39m \u001b[43mget_handle\u001b[49m\u001b[43m(\u001b[49m\n\u001b[1;32m   1881\u001b[0m \u001b[43m    \u001b[49m\u001b[43mf\u001b[49m\u001b[43m,\u001b[49m\n\u001b[1;32m   1882\u001b[0m \u001b[43m    \u001b[49m\u001b[43mmode\u001b[49m\u001b[43m,\u001b[49m\n\u001b[1;32m   1883\u001b[0m \u001b[43m    \u001b[49m\u001b[43mencoding\u001b[49m\u001b[38;5;241;43m=\u001b[39;49m\u001b[38;5;28;43mself\u001b[39;49m\u001b[38;5;241;43m.\u001b[39;49m\u001b[43moptions\u001b[49m\u001b[38;5;241;43m.\u001b[39;49m\u001b[43mget\u001b[49m\u001b[43m(\u001b[49m\u001b[38;5;124;43m\"\u001b[39;49m\u001b[38;5;124;43mencoding\u001b[39;49m\u001b[38;5;124;43m\"\u001b[39;49m\u001b[43m,\u001b[49m\u001b[43m \u001b[49m\u001b[38;5;28;43;01mNone\u001b[39;49;00m\u001b[43m)\u001b[49m\u001b[43m,\u001b[49m\n\u001b[1;32m   1884\u001b[0m \u001b[43m    \u001b[49m\u001b[43mcompression\u001b[49m\u001b[38;5;241;43m=\u001b[39;49m\u001b[38;5;28;43mself\u001b[39;49m\u001b[38;5;241;43m.\u001b[39;49m\u001b[43moptions\u001b[49m\u001b[38;5;241;43m.\u001b[39;49m\u001b[43mget\u001b[49m\u001b[43m(\u001b[49m\u001b[38;5;124;43m\"\u001b[39;49m\u001b[38;5;124;43mcompression\u001b[39;49m\u001b[38;5;124;43m\"\u001b[39;49m\u001b[43m,\u001b[49m\u001b[43m \u001b[49m\u001b[38;5;28;43;01mNone\u001b[39;49;00m\u001b[43m)\u001b[49m\u001b[43m,\u001b[49m\n\u001b[1;32m   1885\u001b[0m \u001b[43m    \u001b[49m\u001b[43mmemory_map\u001b[49m\u001b[38;5;241;43m=\u001b[39;49m\u001b[38;5;28;43mself\u001b[39;49m\u001b[38;5;241;43m.\u001b[39;49m\u001b[43moptions\u001b[49m\u001b[38;5;241;43m.\u001b[39;49m\u001b[43mget\u001b[49m\u001b[43m(\u001b[49m\u001b[38;5;124;43m\"\u001b[39;49m\u001b[38;5;124;43mmemory_map\u001b[39;49m\u001b[38;5;124;43m\"\u001b[39;49m\u001b[43m,\u001b[49m\u001b[43m \u001b[49m\u001b[38;5;28;43;01mFalse\u001b[39;49;00m\u001b[43m)\u001b[49m\u001b[43m,\u001b[49m\n\u001b[1;32m   1886\u001b[0m \u001b[43m    \u001b[49m\u001b[43mis_text\u001b[49m\u001b[38;5;241;43m=\u001b[39;49m\u001b[43mis_text\u001b[49m\u001b[43m,\u001b[49m\n\u001b[1;32m   1887\u001b[0m \u001b[43m    \u001b[49m\u001b[43merrors\u001b[49m\u001b[38;5;241;43m=\u001b[39;49m\u001b[38;5;28;43mself\u001b[39;49m\u001b[38;5;241;43m.\u001b[39;49m\u001b[43moptions\u001b[49m\u001b[38;5;241;43m.\u001b[39;49m\u001b[43mget\u001b[49m\u001b[43m(\u001b[49m\u001b[38;5;124;43m\"\u001b[39;49m\u001b[38;5;124;43mencoding_errors\u001b[39;49m\u001b[38;5;124;43m\"\u001b[39;49m\u001b[43m,\u001b[49m\u001b[43m \u001b[49m\u001b[38;5;124;43m\"\u001b[39;49m\u001b[38;5;124;43mstrict\u001b[39;49m\u001b[38;5;124;43m\"\u001b[39;49m\u001b[43m)\u001b[49m\u001b[43m,\u001b[49m\n\u001b[1;32m   1888\u001b[0m \u001b[43m    \u001b[49m\u001b[43mstorage_options\u001b[49m\u001b[38;5;241;43m=\u001b[39;49m\u001b[38;5;28;43mself\u001b[39;49m\u001b[38;5;241;43m.\u001b[39;49m\u001b[43moptions\u001b[49m\u001b[38;5;241;43m.\u001b[39;49m\u001b[43mget\u001b[49m\u001b[43m(\u001b[49m\u001b[38;5;124;43m\"\u001b[39;49m\u001b[38;5;124;43mstorage_options\u001b[39;49m\u001b[38;5;124;43m\"\u001b[39;49m\u001b[43m,\u001b[49m\u001b[43m \u001b[49m\u001b[38;5;28;43;01mNone\u001b[39;49;00m\u001b[43m)\u001b[49m\u001b[43m,\u001b[49m\n\u001b[1;32m   1889\u001b[0m \u001b[43m\u001b[49m\u001b[43m)\u001b[49m\n\u001b[1;32m   1890\u001b[0m \u001b[38;5;28;01massert\u001b[39;00m \u001b[38;5;28mself\u001b[39m\u001b[38;5;241m.\u001b[39mhandles \u001b[38;5;129;01mis\u001b[39;00m \u001b[38;5;129;01mnot\u001b[39;00m \u001b[38;5;28;01mNone\u001b[39;00m\n\u001b[1;32m   1891\u001b[0m f \u001b[38;5;241m=\u001b[39m \u001b[38;5;28mself\u001b[39m\u001b[38;5;241m.\u001b[39mhandles\u001b[38;5;241m.\u001b[39mhandle\n",
      "File \u001b[0;32m~/.local/lib/python3.10/site-packages/pandas/io/common.py:873\u001b[0m, in \u001b[0;36mget_handle\u001b[0;34m(path_or_buf, mode, encoding, compression, memory_map, is_text, errors, storage_options)\u001b[0m\n\u001b[1;32m    868\u001b[0m \u001b[38;5;28;01melif\u001b[39;00m \u001b[38;5;28misinstance\u001b[39m(handle, \u001b[38;5;28mstr\u001b[39m):\n\u001b[1;32m    869\u001b[0m     \u001b[38;5;66;03m# Check whether the filename is to be opened in binary mode.\u001b[39;00m\n\u001b[1;32m    870\u001b[0m     \u001b[38;5;66;03m# Binary mode does not support 'encoding' and 'newline'.\u001b[39;00m\n\u001b[1;32m    871\u001b[0m     \u001b[38;5;28;01mif\u001b[39;00m ioargs\u001b[38;5;241m.\u001b[39mencoding \u001b[38;5;129;01mand\u001b[39;00m \u001b[38;5;124m\"\u001b[39m\u001b[38;5;124mb\u001b[39m\u001b[38;5;124m\"\u001b[39m \u001b[38;5;129;01mnot\u001b[39;00m \u001b[38;5;129;01min\u001b[39;00m ioargs\u001b[38;5;241m.\u001b[39mmode:\n\u001b[1;32m    872\u001b[0m         \u001b[38;5;66;03m# Encoding\u001b[39;00m\n\u001b[0;32m--> 873\u001b[0m         handle \u001b[38;5;241m=\u001b[39m \u001b[38;5;28;43mopen\u001b[39;49m\u001b[43m(\u001b[49m\n\u001b[1;32m    874\u001b[0m \u001b[43m            \u001b[49m\u001b[43mhandle\u001b[49m\u001b[43m,\u001b[49m\n\u001b[1;32m    875\u001b[0m \u001b[43m            \u001b[49m\u001b[43mioargs\u001b[49m\u001b[38;5;241;43m.\u001b[39;49m\u001b[43mmode\u001b[49m\u001b[43m,\u001b[49m\n\u001b[1;32m    876\u001b[0m \u001b[43m            \u001b[49m\u001b[43mencoding\u001b[49m\u001b[38;5;241;43m=\u001b[39;49m\u001b[43mioargs\u001b[49m\u001b[38;5;241;43m.\u001b[39;49m\u001b[43mencoding\u001b[49m\u001b[43m,\u001b[49m\n\u001b[1;32m    877\u001b[0m \u001b[43m            \u001b[49m\u001b[43merrors\u001b[49m\u001b[38;5;241;43m=\u001b[39;49m\u001b[43merrors\u001b[49m\u001b[43m,\u001b[49m\n\u001b[1;32m    878\u001b[0m \u001b[43m            \u001b[49m\u001b[43mnewline\u001b[49m\u001b[38;5;241;43m=\u001b[39;49m\u001b[38;5;124;43m\"\u001b[39;49m\u001b[38;5;124;43m\"\u001b[39;49m\u001b[43m,\u001b[49m\n\u001b[1;32m    879\u001b[0m \u001b[43m        \u001b[49m\u001b[43m)\u001b[49m\n\u001b[1;32m    880\u001b[0m     \u001b[38;5;28;01melse\u001b[39;00m:\n\u001b[1;32m    881\u001b[0m         \u001b[38;5;66;03m# Binary mode\u001b[39;00m\n\u001b[1;32m    882\u001b[0m         handle \u001b[38;5;241m=\u001b[39m \u001b[38;5;28mopen\u001b[39m(handle, ioargs\u001b[38;5;241m.\u001b[39mmode)\n",
      "\u001b[0;31mFileNotFoundError\u001b[0m: [Errno 2] No such file or directory: '/home/crulli/crulli/OldBenchmark/two_bits_vs_packed_vs_blis_vs2_2.csv'"
     ]
    }
   ],
   "source": [
    "data_blis = pd.read_csv(\"/home/crulli/crulli/OldBenchmark/two_bits_vs_packed_vs_blis_vs2_2.csv\", sep=\"\\t\", index_col=False)\n",
    "data_fbgemm = pd.read_csv(\"../../BenchmarkCosimo/logs/fbgemm_resnet18.csv\", sep=\"\\t\", index_col=False)\n",
    "data_blis = pd.concat([data_blis, data_fbgemm])\n",
    "data_blis = data_blis.assign(shape =  lambda x: x[\"M\"] + x[\"K\"] + x[\"N\"])\n",
    "data_blis = data_blis.assign(gflops = lambda x:  (x[\"M\"] * x[\"N\"] * x[\"K\"]) / x[\"min_elapsed\"])\n",
    "data_blis[\"speedup\"] = data_blis.groupby('shape').min_elapsed.transform(np.max) / data_blis.min_elapsed \n",
    "data_blis = data_blis[data_blis[\"lib\"] != \"blis\"]\n",
    "\n",
    "data_blis = data_blis[data_blis[\"lib\"] != \"kernel_1_2_8x8_output_packed\"]\n"
   ]
  },
  {
   "cell_type": "code",
   "execution_count": null,
   "id": "cb998563-a884-43eb-b8cc-2d792bf93f2f",
   "metadata": {},
   "outputs": [],
   "source": [
    "#sns.barplot(x = \"shape\", y = \"min_elapsed\", hue =\"lib\", data=data)\n",
    "#plt.figure(figsize=(10,5))\n",
    "sns.set_palette(sns.color_palette(\"Set2\"))\n",
    "\n",
    "order = [\"Bin Kernel 512 8x8\",\"kernel8x8 64 bit\", \"kernel 2/2 8x8\", \"Packed u8i8 with FBGEMM\", \"blis\"]\n",
    "sns.barplot(x = \"shape\", y = \"speedup\", hue =\"lib\", data=data_blis,hue_order=order)\n",
    "\n",
    "current_handles, current_labels = plt.gca().get_legend_handles_labels()\n",
    "#new_labels = [\"binary\", \"1-2\", \"1-2 with packing\", \"2-2\", \"8-8\", \"BLIS\"]\n",
    "new_labels = [\"1/1\", \"1/2\", \"2/2\", \"8/8\"]\n",
    "\n",
    "#plt.legend(current_handles, new_labels, bbox_to_anchor=(1.02, 1), loc='upper left',)\n",
    "plt.legend(current_handles, new_labels, ncol=2 )\n",
    "\n",
    "plt.xlabel(\"Shape\")\n",
    "plt.ylabel(\"Speedup\")\n",
    "ticks = plt.xticks()\n",
    "labels = dict()\n",
    "for x in data_blis[[\"M\", \"K\", \"N\", \"shape\"]].values:\n",
    "    labels[f\"M: {x[0]}\\nK: {x[1]}\\nN: {x[2]}\"] = x[3]\n",
    "rev_labels = {str(v):k for k,v in labels.items()}\n",
    "new_ticks = [rev_labels[t._text] for t in ticks[1]]\n",
    "plot = plt.xticks(range(len(ticks[1])), new_ticks) \n",
    "print(plt.yticks())\n",
    "plt.ylim([0, 29.5])\n",
    "plt.tight_layout()\n",
    "plt.savefig(\"Bitwise_comparison_blis.pdf\", dpi=300, bbox_inches=\"tight\")"
   ]
  },
  {
   "cell_type": "code",
   "execution_count": null,
   "id": "e76ffa30-8da2-4998-bee3-6802c4c0d063",
   "metadata": {},
   "outputs": [],
   "source": [
    "data_blis.sort_values([\"shape\", \"lib\"])"
   ]
  },
  {
   "cell_type": "markdown",
   "id": "2a7989d4-26ec-4dcf-ba13-28c924238045",
   "metadata": {},
   "source": [
    "## DNNL"
   ]
  },
  {
   "cell_type": "code",
   "execution_count": null,
   "id": "f0e87107-ff7c-43b9-99d5-10378c3e14d8",
   "metadata": {},
   "outputs": [],
   "source": [
    "data = pd.read_csv(\"/home/crulli/crulli/OldBenchmark/two_bits_vs_packed_vs_blis_vs2_2.csv\", sep=\"\\t\", index_col=False)\n",
    "data_dnnl = pd.read_csv(\"dnnl_resnet18.csv\", sep=\"\\t\", index_col=False)\n",
    "data = pd.concat([data, data_dnnl])\n",
    "#data = pd.concat([data, data_dnnl])\n",
    "data = data.assign(shape =  lambda x: x[\"M\"] + x[\"K\"] + x[\"N\"])\n",
    "data = data.assign(gflops = lambda x:  (x[\"M\"] * x[\"N\"] * x[\"K\"]) / x[\"min_elapsed\"])\n",
    "data = data[data[\"lib\"] != \"kernel_1_2_8x8_output_packed\"]\n",
    "data = data[data[\"lib\"] != \"blis\"]\n",
    "data[\"speedup\"] = data.groupby('shape').min_elapsed.transform(np.max) / data.min_elapsed \n",
    "data = data[data[\"lib\"] != \"Intel oneDNN\"]\n"
   ]
  },
  {
   "cell_type": "code",
   "execution_count": null,
   "id": "3fa4e655-d19c-4d4c-9d3c-b7cf95aacadb",
   "metadata": {},
   "outputs": [],
   "source": [
    "\n",
    "data = pd.read_csv(\"/home/crulli/crulli/OldBenchmark/two_bits_vs_packed_vs_blis_vs2_2.csv\", sep=\"\\t\", index_col=False)\n",
    "#data_dnnl = pd.read_csv(\"dnnl_resnet18.csv\", sep=\"\\t\", index_col=False)"
   ]
  },
  {
   "cell_type": "code",
   "execution_count": null,
   "id": "0417fe1e-f6c8-4ec8-8c1e-bf7e6e0b7bfd",
   "metadata": {},
   "outputs": [],
   "source": [
    "data_fbgemm = pd.read_csv(\"fbgemm_resnet18.csv\", sep=\"\\t\", index_col=False)\n",
    "\n",
    "data_fbgemm = data_fbgemm.assign(speedup = data_fbgemm[\"min_elapsed\"].values / data_dnnl[\"min_elapsed\"].values)\n",
    "data = pd.concat([data, data_fbgemm])"
   ]
  },
  {
   "cell_type": "code",
   "execution_count": null,
   "id": "3e4b2563-e650-4c1a-a709-9c8a630ae3d2",
   "metadata": {},
   "outputs": [],
   "source": [
    "#sns.barplot(x = \"shape\", y = \"min_elapsed\", hue =\"lib\", data=data)\n",
    "\n",
    "sns.set_style('darkgrid')\n",
    "sns.set_context(\"notebook\")\n",
    "\n",
    "#plt.figure(figsize=(10,6.5))\n",
    "sns.set_palette(sns.color_palette(\"Set2\"))\n",
    "\n",
    "order = [\"Bin Kernel 512 8x8\",\"kernel8x8 64 bit\", \"kernel 2/2 8x8\", \"Packed u8i8 with FBGEMM\", \"blis\"]\n",
    "sns.barplot(x = \"shape\", y = \"speedup\", hue =\"lib\", data=data,hue_order=order)\n",
    "\n",
    "current_handles, current_labels = plt.gca().get_legend_handles_labels()\n",
    "#new_labels = [\"binary\", \"1-2\", \"1-2 with packing\", \"2-2\", \"8-8\", \"BLIS\"]\n",
    "new_labels = [\"1/1\", \"1/2\", \"2/2\", \"8/8\"]\n",
    "\n",
    "#plt.legend(current_handles, new_labels, bbox_to_anchor=(1.02, 1), loc='upper left',)\n",
    "plt.legend(current_handles, new_labels, ncol=2 )\n",
    "\n",
    "plt.xlabel(\"Shape\")\n",
    "plt.ylabel(\"Speedup\")\n",
    "ticks = plt.xticks()\n",
    "labels = dict()\n",
    "for x in data[[\"M\", \"K\", \"N\", \"shape\"]].values:\n",
    "    labels[f\"M: {x[0]}\\nK: {x[1]}\\nN: {x[2]}\"] = x[3]\n",
    "rev_labels = {str(v):k for k,v in labels.items()}\n",
    "new_ticks = [rev_labels[t._text] for t in ticks[1]]\n",
    "plot = plt.xticks(range(len(ticks[1])), new_ticks) \n",
    "print(plt.yticks())\n",
    "#plt.ylim([0, 29.5])\n",
    "plt.tight_layout()\n",
    "plt.savefig(\"Bitwise_comparison_ddnl.pdf\", dpi=300, bbox_inches=\"tight\")"
   ]
  },
  {
   "cell_type": "markdown",
   "id": "d102e4aa-dedf-43d2-b172-0ef7e3cc1344",
   "metadata": {},
   "source": [
    "## DNNL and BLIS"
   ]
  },
  {
   "cell_type": "code",
   "execution_count": 24,
   "id": "a3767113-2d4c-4cd0-aada-d23ff4e7c97e",
   "metadata": {},
   "outputs": [],
   "source": [
    "data = pd.read_csv(\"/home/crulli/crulli/OldBenchmark/two_bits_vs_packed_vs_blis_vs2_2.csv\", sep=\"\\t\", index_col=False)\n",
    "data = data.assign(shape =  lambda x: x[\"M\"] + x[\"K\"] + x[\"N\"])\n",
    "data = data[data[\"lib\"] != \"kernel_1_2_8x8_output_packed\"]\n",
    "data[\"speedup_blis\"] = data.groupby('shape').min_elapsed.transform(np.max) / data.min_elapsed \n",
    "data_blis = data[data.lib == \"blis\"]"
   ]
  },
  {
   "cell_type": "code",
   "execution_count": 25,
   "id": "60d42fc3-edcf-42bd-b734-9b34124f0aa9",
   "metadata": {},
   "outputs": [],
   "source": [
    "data_fbgemm = pd.read_csv(\"fbgemm_resnet18.csv\", sep=\"\\t\", index_col=False)\n",
    "data_fbgemm = data_fbgemm.assign(shape =  lambda x: x[\"M\"] + x[\"K\"] + x[\"N\"])\n",
    "data_fbgemm = data_fbgemm.assign(speedup_blis = data_blis[\"min_elapsed\"].values / data_fbgemm[\"min_elapsed\"].values)"
   ]
  },
  {
   "cell_type": "code",
   "execution_count": 26,
   "id": "c2c0b4e6-6aba-424b-995a-fe7cfe4d0603",
   "metadata": {},
   "outputs": [],
   "source": [
    "complete_data_blis = pd.concat([data, data_fbgemm])\n",
    "complete_data_blis = complete_data_blis[complete_data_blis.lib != \"blis\"]"
   ]
  },
  {
   "cell_type": "code",
   "execution_count": 35,
   "id": "3b3fa1c5-9f34-4afc-8b0f-0c462503631e",
   "metadata": {},
   "outputs": [],
   "source": [
    "data = pd.read_csv(\"/home/crulli/crulli/OldBenchmark/two_bits_vs_packed_vs_blis_vs2_2.csv\", sep=\"\\t\", index_col=False)\n",
    "data_dnnl = pd.read_csv(\"dnnl_resnet18.csv\", sep=\"\\t\", index_col=False)\n",
    "data = pd.concat([data, data_dnnl])\n",
    "data = data.assign(shape =  lambda x: x[\"M\"] + x[\"K\"] + x[\"N\"])\n",
    "data = data.assign(gflops = lambda x:  (x[\"M\"] * x[\"N\"] * x[\"K\"]) / x[\"min_elapsed\"])\n",
    "data = data[data[\"lib\"] != \"kernel_1_2_8x8_output_packed\"]\n",
    "data = data[data[\"lib\"] != \"blis\"]\n",
    "data[\"speedup_dnnl\"] = data.groupby('shape').min_elapsed.transform(np.max) / data.min_elapsed \n",
    "data_dnnl = data[data.lib == \"Intel oneDNN\"]\n",
    "data = data[data[\"lib\"] != \"Intel oneDNN\"]\n"
   ]
  },
  {
   "cell_type": "code",
   "execution_count": 36,
   "id": "0de54c25-5fb3-40cb-adfa-f3fb8fa7fa10",
   "metadata": {},
   "outputs": [],
   "source": [
    "data_fbgemm = pd.read_csv(\"fbgemm_resnet18.csv\", sep=\"\\t\", index_col=False)\n",
    "data_fbgemm = data_fbgemm.assign(shape =  lambda x: x[\"M\"] + x[\"K\"] + x[\"N\"])\n",
    "data_fbgemm = data_fbgemm.assign(speedup_dnnl = data_dnnl[\"min_elapsed\"].values / data_fbgemm[\"min_elapsed\"].values)"
   ]
  },
  {
   "cell_type": "code",
   "execution_count": 38,
   "id": "6f1d3ad4-b687-4243-a29c-29e384f7ab22",
   "metadata": {},
   "outputs": [],
   "source": [
    "complete_data_dnnl = pd.concat([data_fbgemm, data])"
   ]
  },
  {
   "cell_type": "code",
   "execution_count": 41,
   "id": "621e0ae8-5771-41c1-a6da-8e9a2f2d5155",
   "metadata": {},
   "outputs": [
    {
     "name": "stdout",
     "output_type": "stream",
     "text": [
      "3556\n",
      "3556\n",
      "3556\n",
      "3620\n",
      "3620\n",
      "3620\n",
      "1956\n",
      "1956\n",
      "1956\n",
      "2084\n",
      "2084\n",
      "2084\n",
      "2704\n",
      "2704\n",
      "2704\n",
      "2960\n",
      "2960\n",
      "2960\n",
      "5145\n",
      "5145\n",
      "5145\n",
      "3556\n",
      "3620\n",
      "1956\n",
      "2084\n",
      "2704\n",
      "2960\n",
      "5145\n",
      "{'3556': 'M: 64\\nK: 576\\nN: 2916', '3620': 'M: 128\\nK: 576\\nN: 2916', '1956': 'M: 128\\nK: 1152\\nN: 676', '2084': 'M: 256\\nK: 1152\\nN: 676', '2704': 'M: 256\\nK: 2304\\nN: 144', '2960': 'M: 512\\nK: 2304\\nN: 144', '5145': 'M: 512\\nK: 4608\\nN: 25'}\n"
     ]
    },
    {
     "data": {
      "image/png": "[encoded data removed]",
      "text/plain": [
       "<Figure size 504x360 with 2 Axes>"
      ]
     },
     "metadata": {},
     "output_type": "display_data"
    }
   ],
   "source": [
    "sns.set_style('darkgrid')\n",
    "sns.set_context(\"notebook\")\n",
    "f, (ax1, ax2) = plt.subplots(2, 1, figsize=(7, 5), sharex=True)\n",
    "\n",
    "#sns.barplot(x = \"shape\", y = \"min_elapsed\", hue =\"lib\", data=data)\n",
    "#plt.figure(figsize=(10,5))\n",
    "sns.set_palette(sns.color_palette(\"Set2\"))\n",
    "order = [\"Bin Kernel 512 8x8\",\"kernel8x8 64 bit\", \"kernel 2/2 8x8\", \"Packed u8i8 with FBGEMM\"]\n",
    "\n",
    "\n",
    "sns.barplot(x = \"shape\", y = \"speedup_blis\", hue =\"lib\", data=complete_data_blis, hue_order=order, ax=ax1)\n",
    "sns.barplot(x = \"shape\", y = \"speedup_dnnl\", hue =\"lib\", data=complete_data_dnnl, hue_order=order, ax=ax2)\n",
    "\n",
    "\n",
    "current_handles, current_labels = plt.gca().get_legend_handles_labels()\n",
    "new_labels = [\"1/1\", \"1/2\", \"2/2\", \"8/8\"]\n",
    "ax1.legend(current_handles, new_labels, ncol=4, bbox_to_anchor=(0.85, -0.025 ))\n",
    "ax1.set_xlabel(\"\")\n",
    "ax1.set_ylabel(\"BLIS\")\n",
    "ax2.set_ylabel(\"oneDNN\")\n",
    "\n",
    "ax2.get_legend().remove()\n",
    "# ax1.set_xlabel(\"Shape\")\n",
    "# ax1.set_ylabel(\"Speedup BLIS\")\n",
    "ticks = ax2.get_xticklabels()\n",
    "labels = dict()\n",
    "for x in data[[\"M\", \"K\", \"N\", \"shape\"]].values:\n",
    "    labels[f\"M: {x[0]}\\nK: {x[1]}\\nN: {x[2]}\"] = x[3]\n",
    "    print(x[3])\n",
    "\n",
    "for x in data_blis[[\"M\", \"K\", \"N\", \"shape\"]].values:\n",
    "    #labels[f\"M: {x[0]}\\nK: {x[1]}\\nN: {x[2]}\"] = x[3]\n",
    "    print(x[3])\n",
    "rev_labels = {str(v):k for k,v in labels.items()}\n",
    "print(rev_labels)\n",
    "new_ticks = [rev_labels[t._text] for t in ticks]\n",
    "# #ax1 = plt.xticks(range(len(ticks[1])), new_ticks) \n",
    "ax2.set_xticklabels(new_ticks)\n",
    "ax2.set_xlabel(\"Shape\")\n",
    "# plt.ylim([0, 29.5])\n",
    "# plt.tight_layout()\n",
    "sns.despine(bottom=True)\n",
    "#plt.setp(f.axes, yticks=[])\n",
    "plt.tight_layout(h_pad=1)\n",
    "plt.savefig(\"Bitwise_comparison_blis_and_dnnl.pdf\", dpi=300, bbox_inches=\"tight\")\n"
   ]
  },
  {
   "cell_type": "code",
   "execution_count": null,
   "id": "d8e441ce-df07-48c9-a272-2c0a6ef91af0",
   "metadata": {},
   "outputs": [],
   "source": [
    "ax2.get_xticklabels()"
   ]
  },
  {
   "cell_type": "markdown",
   "id": "fffe2d6f-45a7-4b96-aa46-438e7a1d00b1",
   "metadata": {},
   "source": [
    "## OTHER STUFF"
   ]
  },
  {
   "cell_type": "code",
   "execution_count": null,
   "id": "8fd9e088-99e9-405a-8e3f-ffcd3322eae1",
   "metadata": {},
   "outputs": [],
   "source": [
    "data = data.assign(gflops = lambda x:  (x[\"M\"] * x[\"N\"] * x[\"K\"]) / x[\"min_elapsed\"])\n",
    "\n",
    "data[data.lib == \"Bin Kernel 512 8x8\"].gflops / (3.4 * 2048 / 6)\n",
    "data[data.lib == \"Bin Kernel 512 8x8\"].gflops / (3.4 * 2048 / 6)"
   ]
  },
  {
   "cell_type": "code",
   "execution_count": null,
   "id": "437799f3-99a4-41a2-998a-38795a6b106f",
   "metadata": {},
   "outputs": [],
   "source": [
    "data[data.lib == 'kernel8x8 64 bit'].gflops / (3.4 * 2048 / 12)"
   ]
  },
  {
   "cell_type": "code",
   "execution_count": null,
   "id": "0348d908-52c5-4611-a71c-535d61b3fee6",
   "metadata": {},
   "outputs": [],
   "source": [
    "data[data.lib == 'kernel 2/2 8x8'].gflops / (3.4 * 2048 / 48)"
   ]
  },
  {
   "cell_type": "code",
   "execution_count": null,
   "id": "2b7f67d4-0aed-493a-9f39-3e1ff5c874e6",
   "metadata": {},
   "outputs": [],
   "source": [
    "kernel 2/2 8x8"
   ]
  },
  {
   "cell_type": "code",
   "execution_count": null,
   "id": "9773fcc8-94e5-40cb-acaf-5df477fc7516",
   "metadata": {},
   "outputs": [],
   "source": [
    "data = data[data[\"lib\"] != \"blis\"]\n",
    "\n",
    "data[\"speedup\"] = data.groupby('shape').min_elapsed.transform(np.max) / data.min_elapsed "
   ]
  },
  {
   "cell_type": "code",
   "execution_count": null,
   "id": "70e9651f-4058-4ce6-bdc1-b183b730eea3",
   "metadata": {},
   "outputs": [],
   "source": [
    "#remove Onednn\n",
    "data = data[data[\"lib\"] != \"kernel_1_2_8x8_output_packed\"]\n",
    "\n"
   ]
  },
  {
   "cell_type": "code",
   "execution_count": null,
   "id": "13635f91-c16b-45d5-adb7-8aed7c5d892f",
   "metadata": {},
   "outputs": [],
   "source": [
    "data"
   ]
  },
  {
   "cell_type": "code",
   "execution_count": null,
   "id": "ed6a8287-2c0f-4ded-b28d-8e0486b1a86e",
   "metadata": {},
   "outputs": [],
   "source": [
    "\n",
    "\n",
    "sns.barplot(x = \"shape\", y = \"speedup\", hue =\"lib\", data=data)#,hue_order=order)\n",
    "current_handles, current_labels = plt.gca().get_legend_handles_labels()\n",
    "#new_labels = [\"binary\", \"1-2\", \"1-2 with packing\", \"2-2\", \"8-8\", \"BLIS\"]\n",
    "new_labels = [\"1/1\", \"1/2\", \"2/2\"]\n",
    "plt.legend(current_handles, new_labels, ncol=2 )\n",
    "\n",
    "plt.xlabel(\"Shape\")\n",
    "plt.ylabel(\"Speedup\")\n",
    "ticks = plt.xticks()\n",
    "labels = dict()\n",
    "for x in data[[\"M\", \"K\", \"N\", \"shape\"]].values:\n",
    "    labels[f\"M: {x[0]}\\nK: {x[1]}\\nN: {x[2]}\"] = x[3]\n",
    "rev_labels = {str(v):k for k,v in labels.items()}\n",
    "new_ticks = [rev_labels[t._text] for t in ticks[1]]\n",
    "plot = plt.xticks(range(len(ticks[1])), new_ticks) "
   ]
  },
  {
   "cell_type": "code",
   "execution_count": null,
   "id": "008bad83-3ee6-409f-89a7-c9c829c1c3cd",
   "metadata": {},
   "outputs": [],
   "source": [
    "\n",
    "order = [\"Bin Kernel 512 8x8\",\"kernel8x8 64 bit\", \"kernel 2/2 8x8\", \"Packed u8i8 with FBGEMM\", \"blis\"]"
   ]
  },
  {
   "cell_type": "code",
   "execution_count": null,
   "id": "d1cae34a-e359-42d2-a26d-d5697fb837e4",
   "metadata": {},
   "outputs": [],
   "source": []
  },
  {
   "cell_type": "code",
   "execution_count": null,
   "id": "0f7183cf-93d7-431c-ab98-86f46562665e",
   "metadata": {},
   "outputs": [],
   "source": [
    "# Remove blis\n",
    "data = data[data[\"lib\"] != \"blis\"]\n",
    "#Remove packed\n",
    "data = data[\"kernel_1_2_8x8_output_packed\" != data[\"lib\"]]\n"
   ]
  },
  {
   "cell_type": "code",
   "execution_count": null,
   "id": "6063ab7b-812e-48e4-ae97-f0e599bf2af0",
   "metadata": {},
   "outputs": [],
   "source": [
    "\n"
   ]
  },
  {
   "cell_type": "code",
   "execution_count": null,
   "id": "7c90323c-8e86-4384-a534-27f2d0d48be0",
   "metadata": {},
   "outputs": [],
   "source": [
    "#sns.barplot(x = \"shape\", y = \"min_elapsed\", hue =\"lib\", data=data)\n",
    "#sns.set_palette(sns.color_palette(\"Set2\"))\n",
    "\n",
    "\n",
    "sns.barplot(x = \"shape\", y = \"speedup\", hue =\"lib\", data=data,hue_order=order)\n",
    "\n",
    "current_handles, current_labels = plt.gca().get_legend_handles_labels()\n",
    "#new_labels = [\"binary\", \"1-2\", \"1-2 with packing\", \"2-2\", \"8-8\", \"BLIS\"]\n",
    "new_labels = [\"1/1\", \"1/2\", \"2/2\", \"8/8\"]\n",
    "\n",
    "#plt.legend(current_handles, new_labels, bbox_to_anchor=(1.02, 1), loc='upper left',)\n",
    "plt.legend(current_handles, new_labels, ncol=2 )\n",
    "\n",
    "plt.xlabel(\"Shape\")\n",
    "plt.ylabel(\"Speedup\")\n",
    "ticks = plt.xticks()\n",
    "labels = dict()\n",
    "for x in data[[\"M\", \"K\", \"N\", \"shape\"]].values:\n",
    "    labels[f\"M: {x[0]}\\nK: {x[1]}\\nN: {x[2]}\"] = x[3]\n",
    "rev_labels = {str(v):k for k,v in labels.items()}\n",
    "new_ticks = [rev_labels[t._text] for t in ticks[1]]\n",
    "plot = plt.xticks(range(len(ticks[1])), new_ticks) \n",
    "print(plt.yticks())\n",
    "plt.ylim([0, 29.5])\n",
    "plt.tight_layout()\n",
    "plt.savefig(\"Bitwise_comparison.pdf\", dpi=300,bbox_inches=\"tight\")"
   ]
  },
  {
   "cell_type": "code",
   "execution_count": null,
   "id": "31f69085-008f-4487-9e00-de6d66bfcc9b",
   "metadata": {},
   "outputs": [],
   "source": [
    "plt.figure(figsize=(10, 5))\n",
    "sns.barplot(x = \"shape\", y = \"speedup\", hue =\"lib\", data=data,hue_order=order)\n",
    "\n",
    "current_handles, current_labels = plt.gca().get_legend_handles_labels()\n",
    "#new_labels = [\"binary\", \"1-2\", \"1-2 with packing\", \"2-2\", \"8-8\", \"BLIS\"]\n",
    "new_labels = [\"1/1\", \"1/2\", \"2/2\", \"8/8\"]\n",
    "\n",
    "#plt.legend(current_handles, new_labels, bbox_to_anchor=(1.02, 1), loc='upper left',)\n",
    "plt.legend(current_handles, new_labels, ncol=2 )\n",
    "\n",
    "plt.xlabel(\"Shape\")\n",
    "plt.ylabel(\"Speedup\")\n",
    "ticks = plt.xticks()\n",
    "labels = dict()\n",
    "for x in data[[\"M\", \"K\", \"N\", \"shape\"]].values:\n",
    "    labels[f\"M: {x[0]}\\nK: {x[1]}\\nN: {x[2]}\"] = x[3]\n",
    "rev_labels = {str(v):k for k,v in labels.items()}\n",
    "new_ticks = [rev_labels[t._text] for t in ticks[1]]\n",
    "plot = plt.xticks(range(len(ticks[1])), new_ticks) \n",
    "print(plt.yticks())\n",
    "plt.ylim([0, 29.5])\n",
    "plt.tight_layout()\n",
    "plt.savefig(\"Bitwise_comparison.pdf\", dpi=300,bbox_inches=\"tight\")"
   ]
  },
  {
   "cell_type": "code",
   "execution_count": null,
   "id": "073f831f-31c0-4f8f-9001-99f3ccbbb503",
   "metadata": {},
   "outputs": [],
   "source": [
    "!realpath Bitwise_comparison.pdf"
   ]
  },
  {
   "cell_type": "code",
   "execution_count": null,
   "id": "a7c2e2b7-38f5-4858-a3dd-bb672d5393c8",
   "metadata": {},
   "outputs": [],
   "source": [
    "labels"
   ]
  },
  {
   "cell_type": "code",
   "execution_count": null,
   "id": "55d816ec-d769-4cff-9324-f7280deaf00d",
   "metadata": {},
   "outputs": [],
   "source": [
    "rev_labels = {str(v):k for k,v in labels.items()}\n",
    "rev_labels"
   ]
  },
  {
   "cell_type": "code",
   "execution_count": null,
   "id": "f7dc5b42-ddf1-4ccc-9b4c-3726ac7fe7f0",
   "metadata": {},
   "outputs": [],
   "source": [
    "new_ticks = [rev_labels[t._text] for t in ticks[1]]"
   ]
  },
  {
   "cell_type": "code",
   "execution_count": null,
   "id": "d8df72cd-90a5-47d4-994a-1be00315f4c5",
   "metadata": {},
   "outputs": [],
   "source": [
    "new_ticks"
   ]
  },
  {
   "cell_type": "code",
   "execution_count": null,
   "id": "a47b2d03-8f25-48ec-abc0-af76fb9e7baa",
   "metadata": {},
   "outputs": [],
   "source": [
    "sns.barplot(x = \"shape\", y = \"gflops\", hue =\"lib\", data=data)\n",
    "current_handles, current_labels = plt.gca().get_legend_handles_labels()\n",
    "new_labels = [\"binary\", \"1-2\", \"1-2 with packing\"]\n",
    "plt.legend(current_handles,new_labels, bbox_to_anchor=(1.02, 1), loc='upper left',)\n",
    "plt.xlabel(\"Shape\")\n",
    "plt.ylabel(\"GFLOP(s)\")\n",
    "ticks = plt.xticks()\n",
    "labels = dict()\n",
    "for x in data[[\"M\", \"K\", \"N\", \"shape\"]].values:\n",
    "    labels[f\"M: {x[0]}\\nK: {x[1]}x\\nN: {x[2]}\"] = x[3]\n",
    "rev_labels = {str(v):k for k,v in labels.items()}\n",
    "new_ticks = [rev_labels[t._text] for t in ticks[1]]\n",
    "t  = plt.xticks(range(len(ticks[1])), new_ticks) \n"
   ]
  },
  {
   "cell_type": "code",
   "execution_count": null,
   "id": "ab2b1a41-8139-4b85-a073-b043fc5f04d2",
   "metadata": {},
   "outputs": [],
   "source": [
    "data[data.lib == \"kernel 2/2 8x8\"]"
   ]
  },
  {
   "cell_type": "code",
   "execution_count": null,
   "id": "fb816676-53ef-4aea-b7eb-beaf73347b6e",
   "metadata": {},
   "outputs": [],
   "source": []
  }
 ],
 "metadata": {
  "kernelspec": {
   "display_name": "Python 3 (ipykernel)",
   "language": "python",
   "name": "python3"
  },
  "language_info": {
   "codemirror_mode": {
    "name": "ipython",
    "version": 3
   },
   "file_extension": ".py",
   "mimetype": "text/x-python",
   "name": "python",
   "nbconvert_exporter": "python",
   "pygments_lexer": "ipython3",
   "version": "3.10.12"
  }
 },
 "nbformat": 4,
 "nbformat_minor": 5
}
