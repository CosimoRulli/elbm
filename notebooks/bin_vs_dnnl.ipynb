{
 "cells": [
  {
   "cell_type": "code",
   "execution_count": 1,
   "id": "901ee6df-1b04-4fa3-ae75-97c946ccd8e9",
   "metadata": {},
   "outputs": [],
   "source": [
    "import pandas as pd\n",
    "import matplotlib.pyplot as plt\n",
    "import sys\n",
    "import seaborn as sns\n",
    "import numpy as np\n",
    "import io\n",
    "import os"
   ]
  },
  {
   "cell_type": "markdown",
   "id": "edd689af-a9f2-472e-b171-6c6d9f41bc30",
   "metadata": {},
   "source": [
    "## Old logs"
   ]
  },
  {
   "cell_type": "code",
   "execution_count": 18,
   "id": "97ef5d49-af20-4b98-9b26-f06dee7140f8",
   "metadata": {},
   "outputs": [],
   "source": [
    "data = pd.read_csv(\"../../BenchmarkCosimo/logs/bin_vs_2bits_vs_dnnl.csv\",  sep=\"\\t\", index_col=False)\n",
    "data[\"M\"] = data[\"M\"].astype(int)"
   ]
  },
  {
   "cell_type": "code",
   "execution_count": 21,
   "id": "21bc4634-c427-4ae6-9c9b-0cbc7b09c84f",
   "metadata": {},
   "outputs": [],
   "source": [
    "old_times = data [ data['lib'] == \"Bin Kernel 512 8x8\"]['min_elapsed'].values"
   ]
  },
  {
   "cell_type": "code",
   "execution_count": 22,
   "id": "d96d23dc-e86b-47b4-988b-98343a1ee9b6",
   "metadata": {},
   "outputs": [],
   "source": [
    "new_times = new_data['min_elapsed'].values"
   ]
  },
  {
   "cell_type": "code",
   "execution_count": 24,
   "id": "b271321b-146c-4ffc-a383-a592c1c3dab8",
   "metadata": {},
   "outputs": [
    {
     "data": {
      "text/plain": [
       "array([   -595,    1925,     294,      -9,     343,    2678,    -197,\n",
       "          1883,    2785,    7290,    4399,    4018,    5260,   15329,\n",
       "          8473,    2658,   -6570,    1993,   -2923,    -628,    5057,\n",
       "        -16225,   -9248,   -2759,    2708,     598,    -342, -276190,\n",
       "        -13832,    -675,  -11571,  -11677,  -26042,  -11619,  -11035,\n",
       "         41168,   18576])"
      ]
     },
     "execution_count": 24,
     "metadata": {},
     "output_type": "execute_result"
    }
   ],
   "source": [
    "old_times[:len(new_times)] - new_times"
   ]
  },
  {
   "cell_type": "code",
   "execution_count": 13,
   "id": "bdc15e7c-d70e-4fd8-9dd3-d656caae8055",
   "metadata": {},
   "outputs": [],
   "source": [
    "new_data = pd.read_csv(\"../table4.csv\", sep=\"\\t\", index_col=False)"
   ]
  },
  {
   "cell_type": "code",
   "execution_count": 3,
   "id": "537c16aa-5deb-4902-b877-58b9477aa47b",
   "metadata": {},
   "outputs": [],
   "source": [
    "#sns.lineplot(x=\"M\", y= \"min_elapsed\", hue=\"lib\", data=data)"
   ]
  },
  {
   "cell_type": "code",
   "execution_count": 25,
   "id": "c1c314a0-442a-4afb-bbd3-8341cf7c71bf",
   "metadata": {},
   "outputs": [],
   "source": [
    "gflops_dense = 3.4 * 16 * 2\n",
    "gflops_bin = 3.4 * 2048 / 6\n",
    "gflops_1_2 = gflops_bin / 2\n",
    "gflops_2_2 = gflops_bin / 8\n",
    "data = data.assign(gflops = lambda x:  (x[\"M\"] * x[\"N\"] * x[\"K\"]) / x[\"min_elapsed\"])\n"
   ]
  },
  {
   "cell_type": "code",
   "execution_count": 57,
   "id": "25276a20-c7ae-43bc-94d1-fdf77f9ed4f0",
   "metadata": {},
   "outputs": [
    {
     "data": {
      "text/plain": [
       "108.8"
      ]
     },
     "execution_count": 57,
     "metadata": {},
     "output_type": "execute_result"
    }
   ],
   "source": [
    "gflops_dense"
   ]
  },
  {
   "cell_type": "code",
   "execution_count": 34,
   "id": "d9bad43d-274b-4268-8cc8-466dfef5c2e6",
   "metadata": {},
   "outputs": [],
   "source": [
    "selected_vals = [64, 128, 256, 512, 1024, 2048]"
   ]
  },
  {
   "cell_type": "code",
   "execution_count": 54,
   "id": "94143e2b-c1af-48a7-a6f0-e2ecee0ba24d",
   "metadata": {
    "scrolled": true
   },
   "outputs": [],
   "source": [
    "current_df = data[data.lib ==\"Intel oneDNN\"]"
   ]
  },
  {
   "cell_type": "code",
   "execution_count": 55,
   "id": "b606702e-73be-4ff2-9500-36ca0597f29a",
   "metadata": {},
   "outputs": [
    {
     "data": {
      "text/plain": [
       "array([39., 44., 71., 72., 94., 95.])"
      ]
     },
     "execution_count": 55,
     "metadata": {},
     "output_type": "execute_result"
    }
   ],
   "source": [
    "current_df[current_df.M.isin(selected_vals)].gflops.values.round()"
   ]
  },
  {
   "cell_type": "code",
   "execution_count": 56,
   "id": "b95109bb-6984-44ea-abbe-5475f545314b",
   "metadata": {},
   "outputs": [
    {
     "data": {
      "text/plain": [
       "1      0.354638\n",
       "5      0.404969\n",
       "9      0.694674\n",
       "13     0.655282\n",
       "17     0.683203\n",
       "21     0.698359\n",
       "25     0.660684\n",
       "29     0.661866\n",
       "33     0.685333\n",
       "37     0.668350\n",
       "41     0.676389\n",
       "45     0.675561\n",
       "49     0.661895\n",
       "53     0.667053\n",
       "57     0.672258\n",
       "61     0.863532\n",
       "65     0.899553\n",
       "69     0.903972\n",
       "73     0.878681\n",
       "77     0.891322\n",
       "81     0.906933\n",
       "85     0.894570\n",
       "89     0.903640\n",
       "93     0.894208\n",
       "97     0.885833\n",
       "101    0.897051\n",
       "105    0.903779\n",
       "109    0.888976\n",
       "113    0.899891\n",
       "117    0.901493\n",
       "121    0.884711\n",
       "125    0.873336\n",
       "129    0.902191\n",
       "133    0.894926\n",
       "137    0.901889\n",
       "141    0.895311\n",
       "145    0.887702\n",
       "149    0.896192\n",
       "153    0.903607\n",
       "157    0.881792\n",
       "Name: gflops, dtype: float64"
      ]
     },
     "execution_count": 56,
     "metadata": {},
     "output_type": "execute_result"
    }
   ],
   "source": [
    "data[data.lib ==\"Bin Kernel 512 8x8\"]['gflops']  / gflops_bin\n",
    "data[data.lib ==\"kernel8x8 64 bit\"]['gflops']  / gflops_1_2\n",
    "data[data.lib == \"kernel 2/2 8x8\"]['gflops'] / gflops_2_2\n",
    "data[data.lib == \"Intel oneDNN\"]['gflops'] / gflops_dense"
   ]
  },
  {
   "cell_type": "code",
   "execution_count": 58,
   "id": "7bd8fc8e-0059-46b2-88aa-d88527a40875",
   "metadata": {},
   "outputs": [
    {
     "data": {
      "text/html": [
       "<div>\n",
       "<style scoped>\n",
       "    .dataframe tbody tr th:only-of-type {\n",
       "        vertical-align: middle;\n",
       "    }\n",
       "\n",
       "    .dataframe tbody tr th {\n",
       "        vertical-align: top;\n",
       "    }\n",
       "\n",
       "    .dataframe thead th {\n",
       "        text-align: right;\n",
       "    }\n",
       "</style>\n",
       "<table border=\"1\" class=\"dataframe\">\n",
       "  <thead>\n",
       "    <tr style=\"text-align: right;\">\n",
       "      <th></th>\n",
       "      <th>lib</th>\n",
       "      <th>M</th>\n",
       "      <th>K</th>\n",
       "      <th>N</th>\n",
       "      <th>min_elapsed</th>\n",
       "      <th>mean_elapsed</th>\n",
       "      <th>gflops</th>\n",
       "    </tr>\n",
       "  </thead>\n",
       "  <tbody>\n",
       "    <tr>\n",
       "      <th>0</th>\n",
       "      <td>Bin Kernel 512 8x8</td>\n",
       "      <td>64</td>\n",
       "      <td>64</td>\n",
       "      <td>64</td>\n",
       "      <td>992</td>\n",
       "      <td>1.051910e+03</td>\n",
       "      <td>264.258065</td>\n",
       "    </tr>\n",
       "    <tr>\n",
       "      <th>1</th>\n",
       "      <td>Intel oneDNN</td>\n",
       "      <td>64</td>\n",
       "      <td>64</td>\n",
       "      <td>64</td>\n",
       "      <td>6794</td>\n",
       "      <td>6.875480e+03</td>\n",
       "      <td>38.584634</td>\n",
       "    </tr>\n",
       "    <tr>\n",
       "      <th>2</th>\n",
       "      <td>kernel8x8 64 bit</td>\n",
       "      <td>64</td>\n",
       "      <td>64</td>\n",
       "      <td>64</td>\n",
       "      <td>1700</td>\n",
       "      <td>1.750480e+03</td>\n",
       "      <td>154.202353</td>\n",
       "    </tr>\n",
       "    <tr>\n",
       "      <th>3</th>\n",
       "      <td>kernel 2/2 8x8</td>\n",
       "      <td>64</td>\n",
       "      <td>64</td>\n",
       "      <td>64</td>\n",
       "      <td>9413</td>\n",
       "      <td>9.728890e+03</td>\n",
       "      <td>27.849145</td>\n",
       "    </tr>\n",
       "    <tr>\n",
       "      <th>4</th>\n",
       "      <td>Bin Kernel 512 8x8</td>\n",
       "      <td>128</td>\n",
       "      <td>128</td>\n",
       "      <td>128</td>\n",
       "      <td>5184</td>\n",
       "      <td>5.359310e+03</td>\n",
       "      <td>404.543210</td>\n",
       "    </tr>\n",
       "    <tr>\n",
       "      <th>...</th>\n",
       "      <td>...</td>\n",
       "      <td>...</td>\n",
       "      <td>...</td>\n",
       "      <td>...</td>\n",
       "      <td>...</td>\n",
       "      <td>...</td>\n",
       "      <td>...</td>\n",
       "    </tr>\n",
       "    <tr>\n",
       "      <th>155</th>\n",
       "      <td>kernel 2/2 8x8</td>\n",
       "      <td>2496</td>\n",
       "      <td>2496</td>\n",
       "      <td>2496</td>\n",
       "      <td>199687901</td>\n",
       "      <td>2.027450e+08</td>\n",
       "      <td>77.872119</td>\n",
       "    </tr>\n",
       "    <tr>\n",
       "      <th>156</th>\n",
       "      <td>Bin Kernel 512 8x8</td>\n",
       "      <td>2560</td>\n",
       "      <td>2560</td>\n",
       "      <td>2560</td>\n",
       "      <td>15674518</td>\n",
       "      <td>1.573910e+07</td>\n",
       "      <td>1070.349723</td>\n",
       "    </tr>\n",
       "    <tr>\n",
       "      <th>157</th>\n",
       "      <td>Intel oneDNN</td>\n",
       "      <td>2560</td>\n",
       "      <td>2560</td>\n",
       "      <td>2560</td>\n",
       "      <td>174873759</td>\n",
       "      <td>1.751910e+08</td>\n",
       "      <td>95.939014</td>\n",
       "    </tr>\n",
       "    <tr>\n",
       "      <th>158</th>\n",
       "      <td>kernel8x8 64 bit</td>\n",
       "      <td>2560</td>\n",
       "      <td>2560</td>\n",
       "      <td>2560</td>\n",
       "      <td>67897863</td>\n",
       "      <td>6.821950e+07</td>\n",
       "      <td>247.094905</td>\n",
       "    </tr>\n",
       "    <tr>\n",
       "      <th>159</th>\n",
       "      <td>kernel 2/2 8x8</td>\n",
       "      <td>2560</td>\n",
       "      <td>2560</td>\n",
       "      <td>2560</td>\n",
       "      <td>217894654</td>\n",
       "      <td>2.212440e+08</td>\n",
       "      <td>76.996914</td>\n",
       "    </tr>\n",
       "  </tbody>\n",
       "</table>\n",
       "<p>160 rows × 7 columns</p>\n",
       "</div>"
      ],
      "text/plain": [
       "                    lib     M     K     N  min_elapsed  mean_elapsed  \\\n",
       "0    Bin Kernel 512 8x8    64    64    64          992  1.051910e+03   \n",
       "1          Intel oneDNN    64    64    64         6794  6.875480e+03   \n",
       "2      kernel8x8 64 bit    64    64    64         1700  1.750480e+03   \n",
       "3        kernel 2/2 8x8    64    64    64         9413  9.728890e+03   \n",
       "4    Bin Kernel 512 8x8   128   128   128         5184  5.359310e+03   \n",
       "..                  ...   ...   ...   ...          ...           ...   \n",
       "155      kernel 2/2 8x8  2496  2496  2496    199687901  2.027450e+08   \n",
       "156  Bin Kernel 512 8x8  2560  2560  2560     15674518  1.573910e+07   \n",
       "157        Intel oneDNN  2560  2560  2560    174873759  1.751910e+08   \n",
       "158    kernel8x8 64 bit  2560  2560  2560     67897863  6.821950e+07   \n",
       "159      kernel 2/2 8x8  2560  2560  2560    217894654  2.212440e+08   \n",
       "\n",
       "          gflops  \n",
       "0     264.258065  \n",
       "1      38.584634  \n",
       "2     154.202353  \n",
       "3      27.849145  \n",
       "4     404.543210  \n",
       "..           ...  \n",
       "155    77.872119  \n",
       "156  1070.349723  \n",
       "157    95.939014  \n",
       "158   247.094905  \n",
       "159    76.996914  \n",
       "\n",
       "[160 rows x 7 columns]"
      ]
     },
     "execution_count": 58,
     "metadata": {},
     "output_type": "execute_result"
    }
   ],
   "source": [
    "data"
   ]
  },
  {
   "cell_type": "code",
   "execution_count": 7,
   "id": "805a9a8c-4b41-4dde-8616-aab0938d3581",
   "metadata": {},
   "outputs": [],
   "source": [
    "sns.set_palette(sns.color_palette(\"Set2\"))\n",
    "palette = sns.color_palette(\"Set2\")"
   ]
  },
  {
   "cell_type": "code",
   "execution_count": 21,
   "id": "29d36695-d594-4fc0-951e-f209c5526f4b",
   "metadata": {},
   "outputs": [
    {
     "data": {
      "image/png": "[encoded data removed]",
      "text/plain": [
       "<Figure size 720x360 with 1 Axes>"
      ]
     },
     "metadata": {},
     "output_type": "display_data"
    }
   ],
   "source": [
    "sns.set_style('darkgrid')\n",
    "sns.set_context(\"talk\")\n",
    "\n",
    "plt.figure(figsize=(10,5))\n",
    "xlim = 2000\n",
    "data = data[data.M <=xlim]\n",
    "data = data.assign(gflops = lambda x:  (x[\"M\"] * x[\"N\"] * x[\"K\"]) / x[\"min_elapsed\"])\n",
    "\n",
    "order = [\"Bin Kernel 512 8x8\", \"kernel8x8 64 bit\", \"kernel 2/2 8x8\", \"Intel oneDNN\"]\n",
    "sns.lineplot(x=\"M\", y= \"gflops\", hue=\"lib\", data=data, hue_order=order)\n",
    "# gflops dense  = 3.4 * 16 * 2 (clock frequency * simd_length * tp)\n",
    "lw = 1.3\n",
    "plt.hlines(gflops_bin, 0, xlim, linestyles=\"--\", linewidth=lw, color=palette[0], label=\"Peak 1/1\")\n",
    "plt.hlines(gflops_1_2, 0, xlim, linestyles=\"--\", linewidth = lw, color=palette[1], label=\"Peak 1/2\")\n",
    "plt.hlines(gflops_2_2, 0, xlim, linestyles=\"--\", linewidth = lw, color=palette[2], label=\"Peak 2/2\")\n",
    "\n",
    "plt.hlines(gflops_dense, 0, 2500, linestyles=\"--\", linewidth = lw, color=palette[3], label=\"Peak 32/32\")\n",
    "\n",
    "# gflops binary  = 3.3 * 2048 / 6 (see paper)\n",
    "#plt.hlines(1160.53, 0, 4000, linestyles=\"--\", linewidth=1,  color=palette[4], label=\"gflops bin (cf = 3.4)\")\n",
    "current_handles, current_labels = plt.gca().get_legend_handles_labels()\n",
    "new_labels = [r\"$1/1$\", r\"$1/2$\", r\"$2/2$\", \"oneDNN\", r\"$tpp_{1/1}$\", r\"$tpp_{1/2}$\", r\"$tpp_{2/2}$\", r\"$tpp_{fp}$\"]\n",
    "#new_labels = [\"1/1\", \"32/32\", current_labels[2], current_labels[3]]\n",
    "\n",
    "#plt.legend(current_handles, new_labels, bbox_to_anchor=(1.02, 1), loc='upper left',)\n",
    "plt.legend(current_handles, new_labels, ncol=2, prop={\"size\": 13}, bbox_to_anchor=(0.6,0.5))\n",
    "\n",
    "plt.xlabel(\"M=K=N\")\n",
    "plt.ylabel(\"GFLOPs\")\n",
    "plt.xlim([0, xlim])\n",
    "plt.tight_layout()\n",
    "plt.savefig(\"bin_vs_dnnl_gflops_flatted.pdf\", dpi=300, bbox_inches=\"tight\")"
   ]
  },
  {
   "cell_type": "markdown",
   "id": "319f304f-fd2e-4bd3-b2c5-5a4408b3e47f",
   "metadata": {},
   "source": [
    "## Normal vs Kernel"
   ]
  },
  {
   "cell_type": "code",
   "execution_count": null,
   "id": "bf501eef-d66c-4bf1-9f65-d2f876837a84",
   "metadata": {},
   "outputs": [],
   "source": [
    "data = pd.read_csv(\"normal_vs_kernel_binary.csv\",  sep=\"\\t\", index_col=False)\n",
    "data[\"speedup\"] = data.groupby('M').min_elapsed.transform(np.max) / data.min_elapsed "
   ]
  },
  {
   "cell_type": "code",
   "execution_count": null,
   "id": "b85e46aa-05ef-4133-bc47-2bca8b9ab7d5",
   "metadata": {},
   "outputs": [],
   "source": [
    "data"
   ]
  },
  {
   "cell_type": "code",
   "execution_count": null,
   "id": "25b14e70-bbc2-4e99-be33-c97f5720ec15",
   "metadata": {},
   "outputs": [],
   "source": [
    "sns.barplot(data=data, x=\"M\", y=\"speedup\", hue=\"lib\")"
   ]
  },
  {
   "cell_type": "code",
   "execution_count": null,
   "id": "074a3e63-c28c-4f10-9048-087758e431b9",
   "metadata": {},
   "outputs": [],
   "source": []
  }
 ],
 "metadata": {
  "kernelspec": {
   "display_name": "Python 3 (ipykernel)",
   "language": "python",
   "name": "python3"
  },
  "language_info": {
   "codemirror_mode": {
    "name": "ipython",
    "version": 3
   },
   "file_extension": ".py",
   "mimetype": "text/x-python",
   "name": "python",
   "nbconvert_exporter": "python",
   "pygments_lexer": "ipython3",
   "version": "3.10.12"
  }
 },
 "nbformat": 4,
 "nbformat_minor": 5
}
